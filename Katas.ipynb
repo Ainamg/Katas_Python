{
 "cells": [
  {
   "cell_type": "markdown",
   "id": "d1bdccb9",
   "metadata": {},
   "source": [
    "##### 1. Escribe una función que reciba una cadena de texto como parámetro y devuelva un diccionario con las frecuencias de cada letra en la cadena. Los espacios no deben ser considerados."
   ]
  },
  {
   "cell_type": "code",
   "execution_count": 1,
   "id": "d6c25531",
   "metadata": {},
   "outputs": [
    {
     "name": "stdout",
     "output_type": "stream",
     "text": [
      "{'h': 1, 'o': 2, 'l': 1, 'a': 1, 'm': 1, 'u': 1, 'n': 1, 'd': 1}\n"
     ]
    }
   ],
   "source": [
    "def contar_frecuencia_letras(texto: str) -> dict:\n",
    "    \"\"\"\n",
    "    Cuenta la frecuencia de cada letra en una cadena de texto.\n",
    "    \n",
    "    Parámetros:\n",
    "    texto (str): Cadena de entrada.\n",
    "\n",
    "    Retorna:\n",
    "    dict: Diccionario con la frecuencia de cada letra (excluyendo espacios).\n",
    "    \"\"\"\n",
    "    frecuencias = {}\n",
    "    for letra in texto:\n",
    "        if letra == \" \":\n",
    "            continue  # Ignorar espacios\n",
    "        if letra in frecuencias:\n",
    "            frecuencias[letra] += 1\n",
    "        else:\n",
    "            frecuencias[letra] = 1\n",
    "    return frecuencias\n",
    "\n",
    "# Ejemplo de uso\n",
    "texto_de_prueba = \"hola mundo\"\n",
    "resultado = contar_frecuencia_letras(texto_de_prueba)\n",
    "print(resultado)\n"
   ]
  },
  {
   "cell_type": "markdown",
   "id": "e7daa5cf",
   "metadata": {},
   "source": [
    "##### 2. Dada una lista de números, obtén una nueva lista con el doble de cada valor. Usa la función map()"
   ]
  },
  {
   "cell_type": "code",
   "execution_count": 2,
   "id": "34363570",
   "metadata": {},
   "outputs": [
    {
     "name": "stdout",
     "output_type": "stream",
     "text": [
      "[2, 4, 6, 8, 10]\n"
     ]
    }
   ],
   "source": [
    "def doblar_valores(lista: list[int]) -> list[int]:\n",
    "    \"\"\"\n",
    "    Devuelve una nueva lista con el doble de cada número en la lista original.\n",
    "\n",
    "    Parámetros:\n",
    "    lista (list[int]): Lista de números enteros.\n",
    "\n",
    "    Retorna:\n",
    "    list[int]: Lista con los valores duplicados.\n",
    "    \"\"\"\n",
    "    return list(map(lambda x: x * 2, lista))\n",
    "\n",
    "# Ejemplo de uso\n",
    "numeros = [1, 2, 3, 4, 5]\n",
    "resultado = doblar_valores(numeros)\n",
    "print(resultado)\n"
   ]
  },
  {
   "cell_type": "markdown",
   "id": "c3b6781b",
   "metadata": {},
   "source": [
    "##### 3. Escribe una función que tome una lista de palabras y una palabra objetivo como parámetros. La función debe devolver una lista con todas las palabras de la lista original que contengan la palabra objetivo."
   ]
  },
  {
   "cell_type": "code",
   "execution_count": 3,
   "id": "3ffb356c",
   "metadata": {},
   "outputs": [
    {
     "name": "stdout",
     "output_type": "stream",
     "text": [
      "['gato', 'gatito']\n"
     ]
    }
   ],
   "source": [
    "def buscar_palabras_con_subcadena(lista_palabras: list[str], palabra_objetivo: str) -> list[str]:\n",
    "    \"\"\"\n",
    "    Devuelve una lista con las palabras que contienen una subcadena específica.\n",
    "\n",
    "    Parámetros:\n",
    "    lista_palabras (list[str]): Lista de palabras.\n",
    "    palabra_objetivo (str): Subcadena a buscar dentro de las palabras.\n",
    "\n",
    "    Retorna:\n",
    "    list[str]: Lista de palabras que contienen la subcadena.\n",
    "    \"\"\"\n",
    "    return [palabra for palabra in lista_palabras if palabra_objetivo in palabra]\n",
    "\n",
    "# Ejemplo de uso\n",
    "palabras = [\"gato\", \"perro\", \"gatito\", \"lagartija\", \"conejo\"]\n",
    "objetivo = \"gat\"\n",
    "resultado = buscar_palabras_con_subcadena(palabras, objetivo)\n",
    "print(resultado)\n"
   ]
  },
  {
   "cell_type": "markdown",
   "id": "540ad66b",
   "metadata": {},
   "source": [
    "##### 4. Genera una función que calcule la diferencia entre los valores de dos listas. Usa la función map()"
   ]
  },
  {
   "cell_type": "code",
   "execution_count": 4,
   "id": "027995e1",
   "metadata": {},
   "outputs": [
    {
     "name": "stdout",
     "output_type": "stream",
     "text": [
      "[9, 18, 27]\n"
     ]
    }
   ],
   "source": [
    "def restar_listas(lista1: list[int], lista2: list[int]) -> list[int]:\n",
    "    \"\"\"\n",
    "    Calcula la diferencia elemento a elemento entre dos listas usando map().\n",
    "\n",
    "    Parámetros:\n",
    "    lista1 (list[int]): Primera lista de números.\n",
    "    lista2 (list[int]): Segunda lista de números.\n",
    "\n",
    "    Retorna:\n",
    "    list[int]: Lista con las diferencias (lista1[i] - lista2[i]).\n",
    "    \"\"\"\n",
    "    return list(map(lambda x, y: x - y, lista1, lista2))\n",
    "\n",
    "# Ejemplo de uso\n",
    "a = [10, 20, 30]\n",
    "b = [1, 2, 3]\n",
    "resultado = restar_listas(a, b)\n",
    "print(resultado)\n"
   ]
  },
  {
   "cell_type": "markdown",
   "id": "0d35a63c",
   "metadata": {},
   "source": [
    "##### 5. Ecribe una función que tome una lista de números como parámetro y un valor opcional nota_aprobado, que por defecto es 5. La función debe calcular la media de los números en la lista y determinar si la media es mayor o igual que nota aprobado. Si es así, el estado será \"aprobado\", de lo contrario, será \"suspenso\". La función debe devolver una tupla que contenga la media y el estado."
   ]
  },
  {
   "cell_type": "code",
   "execution_count": 5,
   "id": "2c994c18",
   "metadata": {},
   "outputs": [
    {
     "name": "stdout",
     "output_type": "stream",
     "text": [
      "(5.75, 'aprobado')\n"
     ]
    }
   ],
   "source": [
    "def evaluar_promedio(notas: list[float], nota_aprobado: float = 5.0) -> tuple[float, str]:\n",
    "    \"\"\"\n",
    "    Calcula la media de una lista de notas y devuelve si está aprobado o suspenso.\n",
    "\n",
    "    Parámetros:\n",
    "    notas (list[float]): Lista de calificaciones numéricas.\n",
    "    nota_aprobado (float): Nota mínima para aprobar. Por defecto es 5.0.\n",
    "\n",
    "    Retorna:\n",
    "    tuple[float, str]: Media calculada y estado ('aprobado' o 'suspenso').\n",
    "    \"\"\"\n",
    "    if not notas:\n",
    "        return (0.0, \"suspenso\")  # o podrías lanzar una excepción\n",
    "\n",
    "    media = sum(notas) / len(notas)\n",
    "    estado = \"aprobado\" if media >= nota_aprobado else \"suspenso\"\n",
    "    return (media, estado)\n",
    "\n",
    "# Ejemplo de uso\n",
    "notas_alumno = [4.5, 6, 7, 5.5]\n",
    "resultado = evaluar_promedio(notas_alumno)\n",
    "print(resultado)\n"
   ]
  },
  {
   "cell_type": "markdown",
   "id": "515576fb",
   "metadata": {},
   "source": [
    "##### 6. Escribe una función que calcule el factorial de un número de manera recursiva."
   ]
  },
  {
   "cell_type": "code",
   "execution_count": 6,
   "id": "dc258b07",
   "metadata": {},
   "outputs": [
    {
     "name": "stdout",
     "output_type": "stream",
     "text": [
      "El factorial de 5 es 120\n"
     ]
    }
   ],
   "source": [
    "def factorial(n: int) -> int:\n",
    "    \"\"\"\n",
    "    Calcula el factorial de un número entero de forma recursiva.\n",
    "\n",
    "    Parámetros:\n",
    "    n (int): Número entero no negativo.\n",
    "\n",
    "    Retorna:\n",
    "    int: Factorial de n.\n",
    "\n",
    "    Lanza:\n",
    "    ValueError: Si el número es negativo.\n",
    "    \"\"\"\n",
    "    if n < 0:\n",
    "        raise ValueError(\"El factorial no está definido para números negativos.\")\n",
    "    if n == 0 or n == 1:\n",
    "        return 1\n",
    "    return n * factorial(n - 1)\n",
    "\n",
    "# Ejemplo de uso\n",
    "numero = 5\n",
    "resultado = factorial(numero)\n",
    "print(f\"El factorial de {numero} es {resultado}\")\n"
   ]
  },
  {
   "cell_type": "markdown",
   "id": "45e875cb",
   "metadata": {},
   "source": [
    "##### 7. Genera una función que convierta una lista de tuplas a una lista de strings. Usa la función map()"
   ]
  },
  {
   "cell_type": "code",
   "execution_count": 1,
   "id": "335d4260",
   "metadata": {},
   "outputs": [
    {
     "name": "stdout",
     "output_type": "stream",
     "text": [
      "['1 2', 'hola mundo', 'True False']\n"
     ]
    }
   ],
   "source": [
    "def tuplas_a_strings(lista_tuplas: list[tuple]) -> list[str]:\n",
    "    \"\"\"\n",
    "    Convierte una lista de tuplas en una lista de strings.\n",
    "\n",
    "    Parámetros:\n",
    "    lista_tuplas (list[tuple]): Lista de tuplas.\n",
    "\n",
    "    Retorna:\n",
    "    list[str]: Lista de strings formados a partir de las tuplas.\n",
    "    \"\"\"\n",
    "    return list(map(lambda t: \" \".join(map(str, t)), lista_tuplas))\n",
    "\n",
    "# Ejemplo de uso\n",
    "tuplas = [(1, 2), (\"hola\", \"mundo\"), (True, False)]\n",
    "resultado = tuplas_a_strings(tuplas)\n",
    "print(resultado)\n"
   ]
  },
  {
   "cell_type": "markdown",
   "id": "41de3ffd",
   "metadata": {},
   "source": [
    "##### 8. Escribe un programa que pida al usuario dos números e intente dividirlos. Si el usuario ingresa un valor no numérico o intenta dividir por cero, maneja esas excepciones de manera adecuada. Asegúrate de mostrar un mensaje indicando si la división fue exitosa o no."
   ]
  },
  {
   "cell_type": "code",
   "execution_count": 1,
   "id": "62f31ab3",
   "metadata": {},
   "outputs": [
    {
     "name": "stdout",
     "output_type": "stream",
     "text": [
      "❌ Error: Debes ingresar valores numéricos.\n",
      "🔚 Fin del programa.\n"
     ]
    }
   ],
   "source": [
    "def dividir_numeros():\n",
    "    \"\"\"\n",
    "    Solicita dos números al usuario y realiza la división entre ellos.\n",
    "    Maneja errores si los datos ingresados no son numéricos o si el divisor es cero.\n",
    "\n",
    "    Retorna:\n",
    "    None\n",
    "    \"\"\"\n",
    "    try:\n",
    "        num1 = float(input(\"Introduce el primer número: \"))\n",
    "        num2 = float(input(\"Introduce el segundo número: \"))\n",
    "        resultado = num1 / num2\n",
    "    except ValueError:\n",
    "        print(\"❌ Error: Debes ingresar valores numéricos.\")\n",
    "    except ZeroDivisionError:\n",
    "        print(\"❌ Error: No se puede dividir entre cero.\")\n",
    "    else:\n",
    "        print(f\"✅ División exitosa. El resultado es: {resultado}\")\n",
    "    finally:\n",
    "        print(\"🔚 Fin del programa.\")\n",
    "\n",
    "# Ejemplo de uso\n",
    "dividir_numeros()\n"
   ]
  },
  {
   "cell_type": "markdown",
   "id": "8aaac77f",
   "metadata": {},
   "source": [
    "##### 9. Escribe una función que tome una lista de nombres de mascotas como parámetro y devuelva una nueva lista excluyendo ciertas mascotas prohibidas en España. La lista de mascotas a excluir es [\"Mapache\", \"Tigre\",\"Serpiente Pitón\", \"Cocodrilo\", \"Oso\"].Usa la función filter()"
   ]
  },
  {
   "cell_type": "code",
   "execution_count": 2,
   "id": "d0030334",
   "metadata": {},
   "outputs": [
    {
     "name": "stdout",
     "output_type": "stream",
     "text": [
      "['Perro', 'Gato', 'Hamster']\n"
     ]
    }
   ],
   "source": [
    "def filtrar_mascotas(mascotas):\n",
    "    \"\"\"\n",
    "    Filtra una lista de mascotas excluyendo las que están prohibidas en España.\n",
    "    \n",
    "    Parámetros:\n",
    "    mascotas (list): Lista de nombres de mascotas.\n",
    "\n",
    "    Retorna:\n",
    "    list: Nueva lista con mascotas permitidas.\n",
    "    \"\"\"\n",
    "    mascotas_prohibidas = {\"Mapache\", \"Tigre\", \"Serpiente Pitón\", \"Cocodrilo\", \"Oso\"}\n",
    "\n",
    "    # Función que devuelve True solo si la mascota no está en la lista prohibida\n",
    "    def no_prohibida(mascota):\n",
    "        return mascota not in mascotas_prohibidas\n",
    "\n",
    "    # Usamos filter para filtrar la lista de mascotas\n",
    "    mascotas_filtradas = list(filter(no_prohibida, mascotas))\n",
    "    return mascotas_filtradas\n",
    "\n",
    "# Ejemplo de uso\n",
    "lista_mascotas = [\"Perro\", \"Gato\", \"Mapache\", \"Cocodrilo\", \"Hamster\"]\n",
    "print(filtrar_mascotas(lista_mascotas))\n"
   ]
  },
  {
   "cell_type": "markdown",
   "id": "87fa8dc0",
   "metadata": {},
   "source": [
    "##### 10. Escribe una función que reciba una lista de números y calcule su promedio. Si la lista está vacía, lanza una excepción personalizada y maneja el error adecuadamente."
   ]
  },
  {
   "cell_type": "code",
   "execution_count": 3,
   "id": "91e421e3",
   "metadata": {},
   "outputs": [
    {
     "name": "stdout",
     "output_type": "stream",
     "text": [
      "Promedio: 25.0\n",
      "❌ Error: La lista está vacía. No se puede calcular el promedio.\n"
     ]
    }
   ],
   "source": [
    "class ListaVaciaError(Exception):\n",
    "    \"\"\"Excepción personalizada para listas vacías.\"\"\"\n",
    "    pass\n",
    "\n",
    "def calcular_promedio(numeros):\n",
    "    \"\"\"\n",
    "    Calcula el promedio de una lista de números.\n",
    "    \n",
    "    Parámetros:\n",
    "    numeros (list): Lista de números.\n",
    "\n",
    "    Retorna:\n",
    "    float: Promedio de los números.\n",
    "\n",
    "    Lanza:\n",
    "    ListaVaciaError: Si la lista está vacía.\n",
    "    \"\"\"\n",
    "    if not numeros:\n",
    "        raise ListaVaciaError(\"La lista está vacía. No se puede calcular el promedio.\")\n",
    "    \n",
    "    return sum(numeros) / len(numeros)\n",
    "\n",
    "# Ejemplo de uso\n",
    "try:\n",
    "    lista = [10, 20, 30, 40]\n",
    "    print(f\"Promedio: {calcular_promedio(lista)}\")\n",
    "    \n",
    "    lista_vacia = []\n",
    "    print(f\"Promedio: {calcular_promedio(lista_vacia)}\")\n",
    "except ListaVaciaError as e:\n",
    "    print(f\"❌ Error: {e}\")\n"
   ]
  },
  {
   "cell_type": "markdown",
   "id": "1afb688f",
   "metadata": {},
   "source": [
    "##### 11. Escribe un programa que pida al usuario que introduzca su edad. Si el usuario ingresa un valor no numérico o un valor fuera del rango esperado (por ejemplo, menor que 0 o mayor que 120), maneja las excepciones adecuadamente."
   ]
  },
  {
   "cell_type": "code",
   "execution_count": 8,
   "id": "cacd4ab4",
   "metadata": {},
   "outputs": [
    {
     "name": "stdout",
     "output_type": "stream",
     "text": [
      "❌ Error: invalid literal for int() with base 10: ''\n",
      "🔚 Fin del programa.\n"
     ]
    }
   ],
   "source": [
    "def pedir_edad():\n",
    "    \"\"\"\n",
    "    Solicita al usuario que introduzca su edad.\n",
    "    Valida que sea un número entero dentro del rango 0-120.\n",
    "    Maneja errores de tipo y rango con mensajes adecuados.\n",
    "\n",
    "    Retorna:\n",
    "    None\n",
    "    \"\"\"\n",
    "    try:\n",
    "        edad = int(input(\"Introduce tu edad: \"))\n",
    "        if edad < 0 or edad > 120:\n",
    "            raise ValueError(\"La edad debe estar entre 0 y 120.\")\n",
    "    except ValueError as e:\n",
    "        print(f\"❌ Error: {e}\")\n",
    "    else:\n",
    "        print(f\"✅ Edad válida: {edad} años.\")\n",
    "    finally:\n",
    "        print(\"🔚 Fin del programa.\")\n",
    "\n",
    "# Ejemplo de uso\n",
    "pedir_edad()\n"
   ]
  },
  {
   "cell_type": "markdown",
   "id": "f4ca8c2a",
   "metadata": {},
   "source": [
    "##### 12. Genera una función que al recibir una frase devuelva una lista con la longitud de cada palabra. Usa la función map()"
   ]
  },
  {
   "cell_type": "code",
   "execution_count": 9,
   "id": "f9b41e62",
   "metadata": {},
   "outputs": [
    {
     "name": "stdout",
     "output_type": "stream",
     "text": [
      "[4, 5, 5, 6]\n"
     ]
    }
   ],
   "source": [
    "def longitudes_palabras(frase):\n",
    "    \"\"\"\n",
    "    Recibe una frase y devuelve una lista con la longitud de cada palabra.\n",
    "    \n",
    "    Parámetros:\n",
    "    frase (str): Frase de entrada.\n",
    "\n",
    "    Retorna:\n",
    "    list: Lista con las longitudes de cada palabra.\n",
    "    \"\"\"\n",
    "    palabras = frase.split()  # Separa la frase en palabras\n",
    "    longitudes = list(map(len, palabras))  # Aplica len a cada palabra usando map\n",
    "    return longitudes\n",
    "\n",
    "# Ejemplo de uso\n",
    "frase_ejemplo = \"Hola mundo desde Python\"\n",
    "print(longitudes_palabras(frase_ejemplo))\n"
   ]
  },
  {
   "cell_type": "markdown",
   "id": "62d6f7f1",
   "metadata": {},
   "source": [
    "##### 13. Genera una función la cual, para un conjunto de caracteres, devuelva una lista de tuplas con cada letra en mayúsculas y minúsculas. Las letras no pueden estar repetidas .Usa la función map()"
   ]
  },
  {
   "cell_type": "code",
   "execution_count": 10,
   "id": "722d11af",
   "metadata": {},
   "outputs": [
    {
     "name": "stdout",
     "output_type": "stream",
     "text": [
      "[('A', 'a'), ('C', 'c'), ('A', 'a'), ('B', 'b'), ('C', 'c')]\n"
     ]
    }
   ],
   "source": [
    "def letras_mayus_minus(caracteres):\n",
    "    \"\"\"\n",
    "    Para un conjunto de caracteres, devuelve una lista de tuplas con cada letra\n",
    "    en mayúsculas y minúsculas, sin repeticiones.\n",
    "\n",
    "    Parámetros:\n",
    "    caracteres (iterable): Conjunto o lista de caracteres.\n",
    "\n",
    "    Retorna:\n",
    "    list: Lista de tuplas (mayúscula, minúscula) sin letras repetidas.\n",
    "    \"\"\"\n",
    "    # Convertir a conjunto para eliminar duplicados y ordenar para consistencia\n",
    "    letras_unicas = sorted(set(caracteres))\n",
    "\n",
    "    # Función que devuelve la tupla (mayúscula, minúscula)\n",
    "    def mayus_minus(letra):\n",
    "        return (letra.upper(), letra.lower())\n",
    "\n",
    "    # Aplicar map a las letras únicas\n",
    "    resultado = list(map(mayus_minus, letras_unicas))\n",
    "    return resultado\n",
    "\n",
    "# Ejemplo de uso\n",
    "conjunto = ['a', 'b', 'A', 'c', 'b', 'C', 'a']\n",
    "print(letras_mayus_minus(conjunto))\n"
   ]
  },
  {
   "cell_type": "markdown",
   "id": "36e31107",
   "metadata": {},
   "source": [
    "##### 14. Crea una función que retorne las palabras de una lista de palabras que comience con una letra en especifico. Usa la función filter()"
   ]
  },
  {
   "cell_type": "code",
   "execution_count": 11,
   "id": "61306664",
   "metadata": {},
   "outputs": [
    {
     "name": "stdout",
     "output_type": "stream",
     "text": [
      "['manzana', 'mango', 'Melocotón', 'Mandarina']\n"
     ]
    }
   ],
   "source": [
    "def filtrar_palabras_por_letra(palabras, letra):\n",
    "    \"\"\"\n",
    "    Filtra y retorna las palabras que comienzan con una letra específica.\n",
    "    \n",
    "    Parámetros:\n",
    "    palabras (list): Lista de palabras.\n",
    "    letra (str): Letra con la que deben comenzar las palabras.\n",
    "\n",
    "    Retorna:\n",
    "    list: Lista de palabras que comienzan con la letra dada.\n",
    "    \"\"\"\n",
    "    # Función que devuelve True si la palabra comienza con la letra (ignorando mayúsculas/minúsculas)\n",
    "    def comienza_con(palabra):\n",
    "        return palabra.lower().startswith(letra.lower())\n",
    "\n",
    "    # Aplicar filter para obtener las palabras que cumplen la condición\n",
    "    palabras_filtradas = list(filter(comienza_con, palabras))\n",
    "    return palabras_filtradas\n",
    "\n",
    "# Ejemplo de uso\n",
    "lista = [\"manzana\", \"mango\", \"pera\", \"Melocotón\", \"banana\", \"Mandarina\"]\n",
    "print(filtrar_palabras_por_letra(lista, 'm'))\n"
   ]
  },
  {
   "cell_type": "markdown",
   "id": "53412152",
   "metadata": {},
   "source": [
    "##### 15. Crea una función lambda que sume 3 a cada número de una lista dada."
   ]
  },
  {
   "cell_type": "code",
   "execution_count": 12,
   "id": "541961d3",
   "metadata": {},
   "outputs": [
    {
     "name": "stdout",
     "output_type": "stream",
     "text": [
      "[4, 7, 10, 13]\n"
     ]
    }
   ],
   "source": [
    "def sumar_tres(lista_numeros):\n",
    "    \"\"\"\n",
    "    Suma 3 a cada número de una lista usando una función lambda.\n",
    "    \n",
    "    Parámetros:\n",
    "    lista_numeros (list): Lista de números.\n",
    "\n",
    "    Retorna:\n",
    "    list: Nueva lista con cada número incrementado en 3.\n",
    "    \"\"\"\n",
    "    # Función lambda que suma 3 a cada elemento\n",
    "    sumar = lambda x: x + 3\n",
    "\n",
    "    # Aplicamos map con la función lambda a la lista\n",
    "    resultado = list(map(sumar, lista_numeros))\n",
    "    return resultado\n",
    "\n",
    "# Ejemplo de uso\n",
    "numeros = [1, 4, 7, 10]\n",
    "print(sumar_tres(numeros))\n"
   ]
  },
  {
   "cell_type": "markdown",
   "id": "d66fc675",
   "metadata": {},
   "source": [
    "##### 16. Escribe una función que tome una cadena de texto y un número entero n como parámetros y devuelva una lista de todas las palabras que sean más largas que n. Usa la función filter()"
   ]
  },
  {
   "cell_type": "code",
   "execution_count": 13,
   "id": "50218a45",
   "metadata": {},
   "outputs": [
    {
     "name": "stdout",
     "output_type": "stream",
     "text": [
      "['rápido', 'zorro', 'marrón', 'salta', 'sobre', 'perro', 'perezoso']\n"
     ]
    }
   ],
   "source": [
    "def palabras_mas_largas(frase, n):\n",
    "    \"\"\"\n",
    "    Devuelve una lista con las palabras de la frase que sean más largas que n caracteres.\n",
    "    \n",
    "    Parámetros:\n",
    "    frase (str): Cadena de texto.\n",
    "    n (int): Número entero que define la longitud mínima.\n",
    "\n",
    "    Retorna:\n",
    "    list: Lista de palabras con longitud mayor que n.\n",
    "    \"\"\"\n",
    "    palabras = frase.split()\n",
    "\n",
    "    # Función que devuelve True si la palabra es más larga que n\n",
    "    def es_mas_larga(palabra):\n",
    "        return len(palabra) > n\n",
    "\n",
    "    # Aplicar filter para filtrar palabras según la condición\n",
    "    resultado = list(filter(es_mas_larga, palabras))\n",
    "    return resultado\n",
    "\n",
    "# Ejemplo de uso\n",
    "frase = \"El rápido zorro marrón salta sobre el perro perezoso\"\n",
    "print(palabras_mas_largas(frase, 4))\n"
   ]
  },
  {
   "cell_type": "markdown",
   "id": "c6524e96",
   "metadata": {},
   "source": [
    "##### 17.  Crea una función que tome una lista de dígitos y devuelva el número correspondiente. Por ejemplo, [5,7,2] corresponde al número quinientos setenta y dos (572). Usa la función reduce()"
   ]
  },
  {
   "cell_type": "code",
   "execution_count": 14,
   "id": "cddf2e8d",
   "metadata": {},
   "outputs": [
    {
     "name": "stdout",
     "output_type": "stream",
     "text": [
      "572\n"
     ]
    }
   ],
   "source": [
    "from functools import reduce\n",
    "\n",
    "def lista_a_numero(digitos):\n",
    "    \"\"\"\n",
    "    Convierte una lista de dígitos en un número entero.\n",
    "\n",
    "    Parámetros:\n",
    "    digitos (list): Lista de dígitos (enteros del 0 al 9).\n",
    "\n",
    "    Retorna:\n",
    "    int: Número formado por los dígitos en orden.\n",
    "    \"\"\"\n",
    "    # Función que acumula el número, multiplicando por 10 y sumando el siguiente dígito\n",
    "    numero = reduce(lambda acc, d: acc * 10 + d, digitos, 0)\n",
    "    return numero\n",
    "\n",
    "# Ejemplo de uso\n",
    "digitos = [5, 7, 2]\n",
    "print(lista_a_numero(digitos))  \n"
   ]
  },
  {
   "cell_type": "markdown",
   "id": "efa1ed8c",
   "metadata": {},
   "source": [
    "##### 18. Escribe un programa en Python que cree una lista de diccionarios que contenga información de estudiantes (nombre, edad, calificación) y use la función filter para extraer a los estudiantes con una calificación mayor o igual a 90. Usa la función filter()"
   ]
  },
  {
   "cell_type": "code",
   "execution_count": 15,
   "id": "0992cbf7",
   "metadata": {},
   "outputs": [
    {
     "name": "stdout",
     "output_type": "stream",
     "text": [
      "[{'nombre': 'Ana', 'edad': 20, 'calificación': 95}, {'nombre': 'María', 'edad': 19, 'calificación': 90}]\n"
     ]
    }
   ],
   "source": [
    "def estudiantes_destacados(estudiantes):\n",
    "    \"\"\"\n",
    "    Filtra y retorna una lista de estudiantes con calificación >= 90.\n",
    "    \n",
    "    Parámetros:\n",
    "    estudiantes (list): Lista de diccionarios con información de estudiantes.\n",
    "\n",
    "    Retorna:\n",
    "    list: Lista de diccionarios con estudiantes destacados.\n",
    "    \"\"\"\n",
    "    # Función que devuelve True si la calificación es >= 90\n",
    "    def es_destacado(estudiante):\n",
    "        return estudiante['calificación'] >= 90\n",
    "\n",
    "    # Usamos filter para obtener solo estudiantes destacados\n",
    "    destacados = list(filter(es_destacado, estudiantes))\n",
    "    return destacados\n",
    "\n",
    "# Ejemplo de uso\n",
    "lista_estudiantes = [\n",
    "    {\"nombre\": \"Ana\", \"edad\": 20, \"calificación\": 95},\n",
    "    {\"nombre\": \"Luis\", \"edad\": 22, \"calificación\": 85},\n",
    "    {\"nombre\": \"María\", \"edad\": 19, \"calificación\": 90},\n",
    "    {\"nombre\": \"Juan\", \"edad\": 21, \"calificación\": 78}\n",
    "]\n",
    "\n",
    "print(estudiantes_destacados(lista_estudiantes))\n"
   ]
  },
  {
   "cell_type": "markdown",
   "id": "8b5b1300",
   "metadata": {},
   "source": [
    "##### 19. Crea una función lambda que filtre los números impares de una lista dada."
   ]
  },
  {
   "cell_type": "code",
   "execution_count": 16,
   "id": "a041616d",
   "metadata": {},
   "outputs": [
    {
     "name": "stdout",
     "output_type": "stream",
     "text": [
      "[1, 3, 5, 7, 9]\n"
     ]
    }
   ],
   "source": [
    "def filtrar_impares(lista_numeros):\n",
    "    \"\"\"\n",
    "    Filtra y retorna los números impares de una lista usando una función lambda.\n",
    "    \n",
    "    Parámetros:\n",
    "    lista_numeros (list): Lista de números enteros.\n",
    "\n",
    "    Retorna:\n",
    "    list: Lista con los números impares.\n",
    "    \"\"\"\n",
    "    # Función lambda que retorna True para números impares\n",
    "    es_impar = lambda x: x % 2 != 0\n",
    "\n",
    "    # Usamos filter con la función lambda para filtrar impares\n",
    "    resultado = list(filter(es_impar, lista_numeros))\n",
    "    return resultado\n",
    "\n",
    "# Ejemplo de uso\n",
    "numeros = [1, 2, 3, 4, 5, 6, 7, 8, 9]\n",
    "print(filtrar_impares(numeros))\n"
   ]
  },
  {
   "cell_type": "markdown",
   "id": "ae25e002",
   "metadata": {},
   "source": [
    "##### 20. Para una lista con elementos tipo integer y string obtén una nueva lista sólo con los valores int. Usa la función filter()"
   ]
  },
  {
   "cell_type": "code",
   "execution_count": 17,
   "id": "1775f928",
   "metadata": {},
   "outputs": [
    {
     "name": "stdout",
     "output_type": "stream",
     "text": [
      "[1, 2, 3, 4]\n"
     ]
    }
   ],
   "source": [
    "def filtrar_enteros(lista_mixta):\n",
    "    \"\"\"\n",
    "    Filtra y retorna solo los elementos que son enteros de una lista mixta.\n",
    "    \n",
    "    Parámetros:\n",
    "    lista_mixta (list): Lista con elementos de tipo int y str.\n",
    "\n",
    "    Retorna:\n",
    "    list: Lista con solo los elementos enteros.\n",
    "    \"\"\"\n",
    "    # Función que devuelve True si el elemento es un int\n",
    "    es_entero = lambda x: isinstance(x, int)\n",
    "\n",
    "    # Usamos filter para obtener solo enteros\n",
    "    resultado = list(filter(es_entero, lista_mixta))\n",
    "    return resultado\n",
    "\n",
    "# Ejemplo de uso\n",
    "lista = [1, 'a', 2, 'b', 3, 'c', 4]\n",
    "print(filtrar_enteros(lista))\n"
   ]
  },
  {
   "cell_type": "markdown",
   "id": "6ae308fe",
   "metadata": {},
   "source": [
    "##### 21. Crea una función que calcule el cubo de un número dado mediante una función lambda"
   ]
  },
  {
   "cell_type": "code",
   "execution_count": 18,
   "id": "c1be3187",
   "metadata": {},
   "outputs": [
    {
     "name": "stdout",
     "output_type": "stream",
     "text": [
      "64\n",
      "15.625\n"
     ]
    }
   ],
   "source": [
    "def cubo_numero(num):\n",
    "    \"\"\"\n",
    "    Calcula el cubo de un número usando una función lambda.\n",
    "    \n",
    "    Parámetros:\n",
    "    num (int o float): Número a elevar al cubo.\n",
    "\n",
    "    Retorna:\n",
    "    int o float: Cubo del número.\n",
    "    \"\"\"\n",
    "    # Función lambda que calcula el cubo\n",
    "    cubo = lambda x: x ** 3\n",
    "\n",
    "    return cubo(num)\n",
    "\n",
    "# Ejemplo de uso\n",
    "print(cubo_numero(4))  \n",
    "print(cubo_numero(2.5))  \n"
   ]
  },
  {
   "cell_type": "markdown",
   "id": "810da399",
   "metadata": {},
   "source": [
    "##### 22. Dada una lista numérica, obtén el producto total de los valores de dicha lista.Usa la función reduce()."
   ]
  },
  {
   "cell_type": "code",
   "execution_count": 19,
   "id": "d6815fcf",
   "metadata": {},
   "outputs": [
    {
     "name": "stdout",
     "output_type": "stream",
     "text": [
      "24\n"
     ]
    }
   ],
   "source": [
    "from functools import reduce\n",
    "\n",
    "def producto_total(lista_numeros):\n",
    "    \"\"\"\n",
    "    Calcula el producto total de los valores en una lista usando reduce.\n",
    "    \n",
    "    Parámetros:\n",
    "    lista_numeros (list): Lista de números (enteros o flotantes).\n",
    "\n",
    "    Retorna:\n",
    "    int o float: Producto de todos los números de la lista.\n",
    "    \"\"\"\n",
    "    producto = reduce(lambda x, y: x * y, lista_numeros, 1)\n",
    "    return producto\n",
    "\n",
    "# Ejemplo de uso\n",
    "numeros = [2, 3, 4]\n",
    "print(producto_total(numeros)) \n"
   ]
  },
  {
   "cell_type": "markdown",
   "id": "176eb77f",
   "metadata": {},
   "source": [
    "##### 23. Concatena una lista de palabras.Usa la función reduce()."
   ]
  },
  {
   "cell_type": "code",
   "execution_count": 20,
   "id": "151f79e3",
   "metadata": {},
   "outputs": [
    {
     "name": "stdout",
     "output_type": "stream",
     "text": [
      "Hola mundo!\n"
     ]
    }
   ],
   "source": [
    "from functools import reduce\n",
    "\n",
    "def concatenar_palabras(lista_palabras):\n",
    "    \"\"\"\n",
    "    Concatena todas las palabras de una lista en una sola cadena usando reduce.\n",
    "    \n",
    "    Parámetros:\n",
    "    lista_palabras (list): Lista de palabras (strings).\n",
    "\n",
    "    Retorna:\n",
    "    str: Cadena resultante de la concatenación.\n",
    "    \"\"\"\n",
    "    resultado = reduce(lambda x, y: x + y, lista_palabras, \"\")\n",
    "    return resultado\n",
    "\n",
    "# Ejemplo de uso\n",
    "palabras = [\"Hola\", \" \", \"mundo\", \"!\"]\n",
    "print(concatenar_palabras(palabras))\n"
   ]
  },
  {
   "cell_type": "markdown",
   "id": "ebfb952e",
   "metadata": {},
   "source": [
    "##### 24. Calcula la diferencia total en los valores de una lista. Usa la función reduce()."
   ]
  },
  {
   "cell_type": "code",
   "execution_count": 21,
   "id": "5a0ac503",
   "metadata": {},
   "outputs": [
    {
     "name": "stdout",
     "output_type": "stream",
     "text": [
      "65\n"
     ]
    }
   ],
   "source": [
    "from functools import reduce\n",
    "\n",
    "def diferencia_total(lista_numeros):\n",
    "    \"\"\"\n",
    "    Calcula la diferencia total restando secuencialmente los valores de la lista usando reduce.\n",
    "    \n",
    "    Parámetros:\n",
    "    lista_numeros (list): Lista de números.\n",
    "\n",
    "    Retorna:\n",
    "    int o float: Resultado de restar todos los números en orden.\n",
    "    \"\"\"\n",
    "    if not lista_numeros:\n",
    "        return 0  # o podría lanzar una excepción si prefieres\n",
    "\n",
    "    resultado = reduce(lambda x, y: x - y, lista_numeros)\n",
    "    return resultado\n",
    "\n",
    "# Ejemplo de uso\n",
    "numeros = [100, 20, 10, 5]\n",
    "print(diferencia_total(numeros))  \n"
   ]
  },
  {
   "cell_type": "markdown",
   "id": "5ec91b30",
   "metadata": {},
   "source": [
    "##### 25. Crea una función que cuente el número de caracteres en una cadena de texto dada."
   ]
  },
  {
   "cell_type": "code",
   "execution_count": 22,
   "id": "b34b0b36",
   "metadata": {},
   "outputs": [
    {
     "name": "stdout",
     "output_type": "stream",
     "text": [
      "18\n"
     ]
    }
   ],
   "source": [
    "def contar_caracteres(cadena):\n",
    "    \"\"\"\n",
    "    Cuenta el número total de caracteres en una cadena de texto.\n",
    "    \n",
    "    Parámetros:\n",
    "    cadena (str): Cadena de texto de entrada.\n",
    "\n",
    "    Retorna:\n",
    "    int: Número total de caracteres en la cadena.\n",
    "    \"\"\"\n",
    "    return len(cadena)\n",
    "\n",
    "# Ejemplo de uso\n",
    "texto = \"Hola, ¿cómo estás?\"\n",
    "print(contar_caracteres(texto))  \n"
   ]
  },
  {
   "cell_type": "markdown",
   "id": "da40e529",
   "metadata": {},
   "source": [
    "##### 26. Crea una función lambda que calcule el resto de la división entre dos números dados."
   ]
  },
  {
   "cell_type": "code",
   "execution_count": 23,
   "id": "e9115a37",
   "metadata": {},
   "outputs": [
    {
     "name": "stdout",
     "output_type": "stream",
     "text": [
      "2\n"
     ]
    }
   ],
   "source": [
    "def resto_division(a, b):\n",
    "    \"\"\"\n",
    "    Calcula el resto de la división entre dos números usando una función lambda.\n",
    "    \n",
    "    Parámetros:\n",
    "    a (int): Dividendo.\n",
    "    b (int): Divisor.\n",
    "\n",
    "    Retorna:\n",
    "    int: Resto de la división a % b.\n",
    "    \"\"\"\n",
    "    modulo = lambda x, y: x % y\n",
    "    return modulo(a, b)\n",
    "\n",
    "# Ejemplo de uso\n",
    "print(resto_division(17, 5))\n"
   ]
  },
  {
   "cell_type": "markdown",
   "id": "1ef86527",
   "metadata": {},
   "source": [
    "##### 27. Crea una función que calcule el promedio de una lista de números."
   ]
  },
  {
   "cell_type": "code",
   "execution_count": 24,
   "id": "ed4b9b97",
   "metadata": {},
   "outputs": [
    {
     "name": "stdout",
     "output_type": "stream",
     "text": [
      "30.0\n"
     ]
    }
   ],
   "source": [
    "def calcular_promedio(lista_numeros):\n",
    "    \"\"\"\n",
    "    Calcula el promedio de una lista de números.\n",
    "\n",
    "    Parámetros:\n",
    "    lista_numeros (list): Lista de números (int o float).\n",
    "\n",
    "    Retorna:\n",
    "    float: Promedio de los números en la lista.\n",
    "    \"\"\"\n",
    "    if not lista_numeros:\n",
    "        return 0  # O puedes lanzar una excepción si prefieres\n",
    "\n",
    "    total = sum(lista_numeros)\n",
    "    cantidad = len(lista_numeros)\n",
    "    promedio = total / cantidad\n",
    "    return promedio\n",
    "\n",
    "# Ejemplo de uso\n",
    "numeros = [10, 20, 30, 40, 50]\n",
    "print(calcular_promedio(numeros)) \n"
   ]
  },
  {
   "cell_type": "markdown",
   "id": "0b3a7656",
   "metadata": {},
   "source": [
    "##### 28. Crea una función que busque y devuelva el primer elemento duplicado en una lista dada."
   ]
  },
  {
   "cell_type": "code",
   "execution_count": 25,
   "id": "eb00863f",
   "metadata": {},
   "outputs": [
    {
     "name": "stdout",
     "output_type": "stream",
     "text": [
      "2\n"
     ]
    }
   ],
   "source": [
    "def primer_duplicado(lista):\n",
    "    \"\"\"\n",
    "    Busca y devuelve el primer elemento duplicado en una lista.\n",
    "\n",
    "    Parámetros:\n",
    "    lista (list): Lista de elementos.\n",
    "\n",
    "    Retorna:\n",
    "    El primer elemento que se repite o None si no hay duplicados.\n",
    "    \"\"\"\n",
    "    vistos = set()\n",
    "    for elemento in lista:\n",
    "        if elemento in vistos:\n",
    "            return elemento\n",
    "        vistos.add(elemento)\n",
    "    return None\n",
    "\n",
    "# Ejemplo de uso\n",
    "lista_ejemplo = [2, 5, 1, 2, 3, 5, 1]\n",
    "print(primer_duplicado(lista_ejemplo))\n"
   ]
  },
  {
   "cell_type": "markdown",
   "id": "e21fabc0",
   "metadata": {},
   "source": [
    "##### 29. Crea una función que convierta una variable en una cadena de texto y enmascare todos los caracteres con el carácter '#', excepto los últimos cuatro."
   ]
  },
  {
   "cell_type": "code",
   "execution_count": 26,
   "id": "c9da275d",
   "metadata": {},
   "outputs": [
    {
     "name": "stdout",
     "output_type": "stream",
     "text": [
      "######7890\n",
      "#####4321\n",
      "abc\n"
     ]
    }
   ],
   "source": [
    "def enmascarar_cadena(valor):\n",
    "    \"\"\"\n",
    "    Convierte una variable a cadena y enmascara todos los caracteres con '#' excepto los últimos cuatro.\n",
    "    \n",
    "    Parámetros:\n",
    "    valor (any): Variable que se convertirá a cadena.\n",
    "\n",
    "    Retorna:\n",
    "    str: Cadena enmascarada.\n",
    "    \"\"\"\n",
    "    cadena = str(valor)\n",
    "    longitud = len(cadena)\n",
    "    \n",
    "    if longitud <= 4:\n",
    "        return cadena  # Si la cadena es menor o igual a 4, no se enmascara nada\n",
    "    \n",
    "    # Enmascarar todos menos los últimos 4 caracteres\n",
    "    enmascarado = '#' * (longitud - 4) + cadena[-4:]\n",
    "    return enmascarado\n",
    "\n",
    "# Ejemplo de uso\n",
    "print(enmascarar_cadena(\"1234567890\"))  \n",
    "print(enmascarar_cadena(987654321))    \n",
    "print(enmascarar_cadena(\"abc\"))           \n"
   ]
  },
  {
   "cell_type": "markdown",
   "id": "1a59f897",
   "metadata": {},
   "source": [
    "##### 30. Crea una función que determine si dos palabras son anagramas, es decir, si están formadas por las mismas letras pero en diferente orden."
   ]
  },
  {
   "cell_type": "code",
   "execution_count": 28,
   "id": "796482a3",
   "metadata": {},
   "outputs": [
    {
     "name": "stdout",
     "output_type": "stream",
     "text": [
      "True\n",
      "False\n"
     ]
    }
   ],
   "source": [
    "def son_anagramas(palabra1, palabra2):\n",
    "    \"\"\"\n",
    "    Determina si dos palabras son anagramas.\n",
    "\n",
    "    Parámetros:\n",
    "    palabra1 (str): Primera palabra.\n",
    "    palabra2 (str): Segunda palabra.\n",
    "\n",
    "    Retorna:\n",
    "    bool: True si son anagramas, False en caso contrario.\n",
    "    \"\"\"\n",
    "    # Eliminar espacios y convertir a minúsculas para comparación uniforme\n",
    "    p1 = palabra1.replace(\" \", \"\").lower()\n",
    "    p2 = palabra2.replace(\" \", \"\").lower()\n",
    "\n",
    "    # Comparar las letras ordenadas de ambas palabras\n",
    "    return sorted(p1) == sorted(p2)\n",
    "\n",
    "# Ejemplo de uso\n",
    "print(son_anagramas(\"Roma\", \"Amor\"))        \n",
    "print(son_anagramas(\"Hola\", \"Ola\"))        \n"
   ]
  },
  {
   "cell_type": "markdown",
   "id": "c6027ab2",
   "metadata": {},
   "source": [
    "##### 31. Crea una función que solicite al usuario ingresar una lista de nombres y luego solicite un nombre para buscar en esa lista. Si el nombre está en la lista, se imprime un mensaje indicando que fue encontrado, de lo contrario, se lanza una excepción."
   ]
  },
  {
   "cell_type": "code",
   "execution_count": null,
   "id": "3343745b",
   "metadata": {},
   "outputs": [],
   "source": [
    "def buscar_nombre_en_lista():\n",
    "    \"\"\"\n",
    "    Solicita al usuario una lista de nombres y un nombre a buscar.\n",
    "    Imprime si el nombre fue encontrado o lanza una excepción si no lo está.\n",
    "    \"\"\"\n",
    "    try:\n",
    "        # Ingreso de nombres separados por comas\n",
    "        entrada = input(\"Ingresa una lista de nombres separados por comas: \")\n",
    "        lista_nombres = [nombre.strip().lower() for nombre in entrada.split(\",\")]\n",
    "\n",
    "        nombre_buscar = input(\"Ingresa el nombre que quieres buscar: \").strip().lower()\n",
    "\n",
    "        if nombre_buscar in lista_nombres:\n",
    "            print(f\"✅ El nombre '{nombre_buscar}' fue encontrado en la lista.\")\n",
    "        else:\n",
    "            raise ValueError(f\"❌ El nombre '{nombre_buscar}' no está en la lista.\")\n",
    "    \n",
    "    except ValueError as e:\n",
    "        print(e)\n",
    "\n",
    "# Ejemplo de uso (ejecutar en entorno interactivo)\n",
    "# buscar_nombre_en_lista()\n"
   ]
  },
  {
   "cell_type": "markdown",
   "id": "9bafb503",
   "metadata": {},
   "source": [
    "##### 32. Crea una función que tome un nombre completo y una lista de empleados, busque el nombre completo en la lista y devuelve el puesto del empleado si está en la lista, de lo contrario, devuelve un mensaje indicando que la persona no trabaja aquí."
   ]
  },
  {
   "cell_type": "code",
   "execution_count": 29,
   "id": "928ab9b2",
   "metadata": {},
   "outputs": [
    {
     "name": "stdout",
     "output_type": "stream",
     "text": [
      "El puesto de Luis Pérez es: Desarrollador Backend\n",
      "❌ Carlos Ruiz no trabaja aquí.\n"
     ]
    }
   ],
   "source": [
    "def obtener_puesto_empleado(nombre_completo, lista_empleados):\n",
    "    \"\"\"\n",
    "    Busca un empleado por nombre completo y devuelve su puesto si está en la lista.\n",
    "    \n",
    "    Parámetros:\n",
    "    nombre_completo (str): Nombre completo del empleado a buscar.\n",
    "    lista_empleados (list): Lista de diccionarios con clave 'nombre' y 'puesto'.\n",
    "\n",
    "    Retorna:\n",
    "    str: Puesto del empleado o mensaje de no encontrado.\n",
    "    \"\"\"\n",
    "    for empleado in lista_empleados:\n",
    "        if empleado['nombre'].lower() == nombre_completo.lower():\n",
    "            return f\"El puesto de {nombre_completo} es: {empleado['puesto']}\"\n",
    "    return f\"❌ {nombre_completo} no trabaja aquí.\"\n",
    "\n",
    "# Ejemplo de uso\n",
    "empleados = [\n",
    "    {\"nombre\": \"Ana Torres\", \"puesto\": \"Analista de Datos\"},\n",
    "    {\"nombre\": \"Luis Pérez\", \"puesto\": \"Desarrollador Backend\"},\n",
    "    {\"nombre\": \"María López\", \"puesto\": \"Científica de Datos\"}\n",
    "]\n",
    "\n",
    "print(obtener_puesto_empleado(\"Luis Pérez\", empleados))       \n",
    "print(obtener_puesto_empleado(\"Carlos Ruiz\", empleados))      \n"
   ]
  },
  {
   "cell_type": "markdown",
   "id": "40a42686",
   "metadata": {},
   "source": [
    "##### 33. Crea una función lambda que sume elementos correspondientes de dos listas dadas."
   ]
  },
  {
   "cell_type": "code",
   "execution_count": 30,
   "id": "9541fbc1",
   "metadata": {},
   "outputs": [
    {
     "name": "stdout",
     "output_type": "stream",
     "text": [
      "[5, 7, 9]\n"
     ]
    }
   ],
   "source": [
    "def sumar_listas(lista1, lista2):\n",
    "    \"\"\"\n",
    "    Suma los elementos correspondientes de dos listas usando una función lambda.\n",
    "    \n",
    "    Parámetros:\n",
    "    lista1 (list): Primera lista de números.\n",
    "    lista2 (list): Segunda lista de números.\n",
    "\n",
    "    Retorna:\n",
    "    list: Lista con la suma de elementos correspondientes.\n",
    "    \"\"\"\n",
    "    suma = list(map(lambda x, y: x + y, lista1, lista2))\n",
    "    return suma\n",
    "\n",
    "# Ejemplo de uso\n",
    "l1 = [1, 2, 3]\n",
    "l2 = [4, 5, 6]\n",
    "print(sumar_listas(l1, l2)) \n"
   ]
  },
  {
   "cell_type": "markdown",
   "id": "3b61c93e",
   "metadata": {},
   "source": [
    "##### 34.  Crea la clase Arbol , define un árbol genérico con un tronco y ramas como atributos. Los métodos disponibles son: crecer_tronco , nueva_rama , crecer_ramas , quitarrama e info_arbol . El objetivo es implementar estos métodos para manipular la estructura del árbol."
   ]
  },
  {
   "cell_type": "code",
   "execution_count": 31,
   "id": "0da481a6",
   "metadata": {},
   "outputs": [
    {
     "name": "stdout",
     "output_type": "stream",
     "text": [
      "🌳 Longitud del tronco: 2\n",
      "🌿 Número de ramas: 2\n",
      "📏 Longitudes de las ramas: [2, 1]\n"
     ]
    }
   ],
   "source": [
    "class Arbol:\n",
    "    \"\"\"\n",
    "    Clase que representa un árbol con un tronco y una lista de ramas.\n",
    "    \"\"\"\n",
    "\n",
    "    def __init__(self):\n",
    "        \"\"\"\n",
    "        Inicializa un árbol con un tronco de longitud 1 y sin ramas.\n",
    "        \"\"\"\n",
    "        self.tronco = 1\n",
    "        self.ramas = []\n",
    "\n",
    "    def crecer_tronco(self):\n",
    "        \"\"\"\n",
    "        Aumenta la longitud del tronco en una unidad.\n",
    "        \"\"\"\n",
    "        self.tronco += 1\n",
    "\n",
    "    def nueva_rama(self):\n",
    "        \"\"\"\n",
    "        Agrega una nueva rama de longitud 1.\n",
    "        \"\"\"\n",
    "        self.ramas.append(1)\n",
    "\n",
    "    def crecer_ramas(self):\n",
    "        \"\"\"\n",
    "        Aumenta la longitud de todas las ramas en una unidad.\n",
    "        \"\"\"\n",
    "        self.ramas = [rama + 1 for rama in self.ramas]\n",
    "\n",
    "    def quitar_rama(self, posicion):\n",
    "        \"\"\"\n",
    "        Elimina la rama en la posición indicada (basado en índice).\n",
    "        \n",
    "        Parámetros:\n",
    "        posicion (int): Índice de la rama a eliminar.\n",
    "        \"\"\"\n",
    "        if 0 <= posicion < len(self.ramas):\n",
    "            del self.ramas[posicion]\n",
    "        else:\n",
    "            print(\"❌ Posición de rama inválida.\")\n",
    "\n",
    "    def info_arbol(self):\n",
    "        \"\"\"\n",
    "        Devuelve información del árbol.\n",
    "        \n",
    "        Retorna:\n",
    "        str: Detalles del tronco, cantidad de ramas y sus longitudes.\n",
    "        \"\"\"\n",
    "        return (f\"🌳 Longitud del tronco: {self.tronco}\\n\"\n",
    "                f\"🌿 Número de ramas: {len(self.ramas)}\\n\"\n",
    "                f\"📏 Longitudes de las ramas: {self.ramas}\")\n",
    "\n",
    "# Caso de uso\n",
    "arbol = Arbol()               \n",
    "arbol.crecer_tronco()         \n",
    "arbol.nueva_rama()            \n",
    "arbol.crecer_ramas()          \n",
    "arbol.nueva_rama()            \n",
    "arbol.nueva_rama()\n",
    "arbol.quitar_rama(2)          \n",
    "print(arbol.info_arbol())     \n"
   ]
  },
  {
   "cell_type": "markdown",
   "id": "9f1a5a62",
   "metadata": {},
   "source": [
    "##### 36. Crea la clase UsuarioBanco ,representa a un usuario de un banco con su nombre, saldo y si tiene o no cuenta corriente. Proporciona métodos para realizar operaciones como retirar dinero, transferir dinero desde otro usuario y agregar dinero al saldo."
   ]
  },
  {
   "cell_type": "code",
   "execution_count": 33,
   "id": "373d888f",
   "metadata": {},
   "outputs": [
    {
     "name": "stdout",
     "output_type": "stream",
     "text": [
      "💰 Bob ha agregado 20€. Nuevo saldo: 70€\n",
      "❌ Bob no tiene saldo suficiente para transferir 80€.\n"
     ]
    }
   ],
   "source": [
    "class UsuarioBanco:\n",
    "    \"\"\"\n",
    "    Representa a un usuario de banco con nombre, saldo y tipo de cuenta.\n",
    "    \"\"\"\n",
    "\n",
    "    def __init__(self, nombre: str, saldo: float, cuenta_corriente: bool):\n",
    "        \"\"\"\n",
    "        Inicializa un usuario con nombre, saldo y si tiene cuenta corriente.\n",
    "\n",
    "        Parámetros:\n",
    "        nombre (str): Nombre del usuario.\n",
    "        saldo (float): Saldo inicial.\n",
    "        cuenta_corriente (bool): True si tiene cuenta corriente, False si no.\n",
    "        \"\"\"\n",
    "        self.nombre = nombre\n",
    "        self.saldo = saldo\n",
    "        self.cuenta_corriente = cuenta_corriente\n",
    "\n",
    "    def retirar_dinero(self, cantidad: float):\n",
    "        \"\"\"\n",
    "        Retira dinero del saldo del usuario.\n",
    "\n",
    "        Parámetros:\n",
    "        cantidad (float): Cantidad a retirar.\n",
    "\n",
    "        Lanza:\n",
    "        ValueError: Si no hay saldo suficiente para retirar.\n",
    "        \"\"\"\n",
    "        if cantidad > self.saldo:\n",
    "            raise ValueError(f\"❌ {self.nombre} no tiene suficiente saldo para retirar {cantidad}€.\")\n",
    "        self.saldo -= cantidad\n",
    "        print(f\"🏧 {self.nombre} ha retirado {cantidad}€. Saldo restante: {self.saldo}€\")\n",
    "\n",
    "    def transferir_dinero(self, otro_usuario, cantidad: float):\n",
    "        \"\"\"\n",
    "        Transfiere dinero desde otro usuario al usuario actual.\n",
    "\n",
    "        Parámetros:\n",
    "        otro_usuario (UsuarioBanco): Usuario que transfiere el dinero.\n",
    "        cantidad (float): Cantidad a transferir.\n",
    "\n",
    "        Lanza:\n",
    "        ValueError: Si el otro usuario no tiene saldo suficiente.\n",
    "        \"\"\"\n",
    "        if cantidad > otro_usuario.saldo:\n",
    "            raise ValueError(f\"❌ {otro_usuario.nombre} no tiene saldo suficiente para transferir {cantidad}€.\")\n",
    "        otro_usuario.saldo -= cantidad\n",
    "        self.saldo += cantidad\n",
    "        print(f\"🔁 {otro_usuario.nombre} ha transferido {cantidad}€ a {self.nombre}.\")\n",
    "\n",
    "    def agregar_dinero(self, cantidad: float):\n",
    "        \"\"\"\n",
    "        Agrega dinero al saldo del usuario.\n",
    "\n",
    "        Parámetros:\n",
    "        cantidad (float): Cantidad a agregar.\n",
    "        \"\"\"\n",
    "        self.saldo += cantidad\n",
    "        print(f\"💰 {self.nombre} ha agregado {cantidad}€. Nuevo saldo: {self.saldo}€\")\n",
    "\n",
    "    def __str__(self):\n",
    "        \"\"\"\n",
    "        Representación legible del usuario.\n",
    "        \"\"\"\n",
    "        tipo_cuenta = \"Corriente\" if self.cuenta_corriente else \"Ahorros\"\n",
    "        return f\"👤 {self.nombre} | 💶 Saldo: {self.saldo}€ | 🏦 Cuenta: {tipo_cuenta}\"\n",
    "\n",
    "# Caso de uso\n",
    "try:\n",
    "    usuario_alicia = UsuarioBanco(\"Alicia\", 100, True)\n",
    "    usuario_bob = UsuarioBanco(\"Bob\", 50, True)\n",
    "\n",
    "    usuario_bob.agregar_dinero(20)                # Bob agrega 20\n",
    "    usuario_alicia.transferir_dinero(usuario_bob, 80)  # Bob transfiere 80 a Alicia\n",
    "    usuario_alicia.retirar_dinero(50)             # Alicia retira 50\n",
    "\n",
    "    print(\"\\n📋 Estado final de las cuentas:\")\n",
    "    print(usuario_alicia)\n",
    "    print(usuario_bob)\n",
    "\n",
    "except ValueError as e:\n",
    "    print(e)\n"
   ]
  },
  {
   "cell_type": "markdown",
   "id": "8f9c6123",
   "metadata": {},
   "source": [
    "##### 37. Crea una función llamada procesar_texto que procesa un texto según la opción especificada: contar_palabras, reemplazar_palabras , eliminar_palabra . Estas opciones son otras funciones que tenemos que definir primero y llamar dentro de la función procesar_texto."
   ]
  },
  {
   "cell_type": "code",
   "execution_count": 34,
   "id": "2e2a6d04",
   "metadata": {},
   "outputs": [
    {
     "name": "stdout",
     "output_type": "stream",
     "text": [
      "Contar palabras:\n",
      "{'python': 2, 'es': 2, 'genial': 1, 'y': 1, 'divertido': 1}\n",
      "\n",
      "Reemplazar palabra 'Python' por 'Java':\n",
      "Java es genial y Java es divertido\n",
      "\n",
      "Eliminar palabra 'es':\n",
      "Python genial y Python divertido\n"
     ]
    }
   ],
   "source": [
    "def contar_palabras(texto: str) -> dict:\n",
    "    \"\"\"\n",
    "    Cuenta cuántas veces aparece cada palabra en el texto.\n",
    "\n",
    "    Parámetros:\n",
    "    texto (str): Texto de entrada.\n",
    "\n",
    "    Retorna:\n",
    "    dict: Diccionario con palabras y su frecuencia.\n",
    "    \"\"\"\n",
    "    palabras = texto.lower().split()\n",
    "    frecuencias = {}\n",
    "    for palabra in palabras:\n",
    "        frecuencias[palabra] = frecuencias.get(palabra, 0) + 1\n",
    "    return frecuencias\n",
    "\n",
    "def reemplazar_palabras(texto: str, palabra_original: str, palabra_nueva: str) -> str:\n",
    "    \"\"\"\n",
    "    Reemplaza una palabra original por una nueva en el texto.\n",
    "\n",
    "    Parámetros:\n",
    "    texto (str): Texto de entrada.\n",
    "    palabra_original (str): Palabra que se quiere reemplazar.\n",
    "    palabra_nueva (str): Palabra que reemplaza.\n",
    "\n",
    "    Retorna:\n",
    "    str: Texto con palabras reemplazadas.\n",
    "    \"\"\"\n",
    "    return texto.replace(palabra_original, palabra_nueva)\n",
    "\n",
    "def eliminar_palabra(texto: str, palabra: str) -> str:\n",
    "    \"\"\"\n",
    "    Elimina todas las apariciones de una palabra en el texto.\n",
    "\n",
    "    Parámetros:\n",
    "    texto (str): Texto de entrada.\n",
    "    palabra (str): Palabra a eliminar.\n",
    "\n",
    "    Retorna:\n",
    "    str: Texto con la palabra eliminada.\n",
    "    \"\"\"\n",
    "    palabras = texto.split()\n",
    "    palabras_filtradas = [p for p in palabras if p != palabra]\n",
    "    return ' '.join(palabras_filtradas)\n",
    "\n",
    "def procesar_texto(texto: str, opcion: str, *args):\n",
    "    \"\"\"\n",
    "    Procesa un texto según la opción indicada:\n",
    "    - \"contar\": cuenta palabras.\n",
    "    - \"reemplazar\": reemplaza una palabra por otra.\n",
    "    - \"eliminar\": elimina una palabra.\n",
    "\n",
    "    Parámetros:\n",
    "    texto (str): Texto a procesar.\n",
    "    opcion (str): Opción de procesamiento (\"contar\", \"reemplazar\", \"eliminar\").\n",
    "    args: Argumentos variables según la opción.\n",
    "\n",
    "    Retorna:\n",
    "    dict o str: Resultado según la opción.\n",
    "    \"\"\"\n",
    "    if opcion == \"contar\":\n",
    "        return contar_palabras(texto)\n",
    "    elif opcion == \"reemplazar\":\n",
    "        if len(args) != 2:\n",
    "            raise ValueError(\"Para 'reemplazar' se requieren 2 argumentos: palabra_original, palabra_nueva\")\n",
    "        return reemplazar_palabras(texto, args[0], args[1])\n",
    "    elif opcion == \"eliminar\":\n",
    "        if len(args) != 1:\n",
    "            raise ValueError(\"Para 'eliminar' se requiere 1 argumento: palabra a eliminar\")\n",
    "        return eliminar_palabra(texto, args[0])\n",
    "    else:\n",
    "        raise ValueError(\"Opción no válida. Use 'contar', 'reemplazar' o 'eliminar'.\")\n",
    "\n",
    "# Caso de uso\n",
    "texto_ejemplo = \"Python es genial y Python es divertido\"\n",
    "\n",
    "print(\"Contar palabras:\")\n",
    "print(procesar_texto(texto_ejemplo, \"contar\"))\n",
    "\n",
    "print(\"\\nReemplazar palabra 'Python' por 'Java':\")\n",
    "print(procesar_texto(texto_ejemplo, \"reemplazar\", \"Python\", \"Java\"))\n",
    "\n",
    "print(\"\\nEliminar palabra 'es':\")\n",
    "print(procesar_texto(texto_ejemplo, \"eliminar\", \"es\"))\n"
   ]
  },
  {
   "cell_type": "markdown",
   "id": "8a9ba81d",
   "metadata": {},
   "source": [
    "##### 38. Genera un programa que nos diga si es de noche, de día o tarde según la hora proporcionada por el usuario."
   ]
  },
  {
   "cell_type": "code",
   "execution_count": null,
   "id": "cd0badb1",
   "metadata": {},
   "outputs": [],
   "source": [
    "def determinar_periodo_horario(hora: int) -> str:\n",
    "    \"\"\"\n",
    "    Determina si la hora corresponde a mañana, tarde o noche.\n",
    "\n",
    "    Parámetros:\n",
    "    hora (int): Hora en formato 24h (0-23).\n",
    "\n",
    "    Retorna:\n",
    "    str: \"Noche\", \"Día\" o \"Tarde\".\n",
    "    \"\"\"\n",
    "    if hora < 0 or hora > 23:\n",
    "        return \"Hora inválida. Debe estar entre 0 y 23.\"\n",
    "    if 6 <= hora < 12:\n",
    "        return \"Mañana (día)\"\n",
    "    elif 12 <= hora < 20:\n",
    "        return \"Tarde\"\n",
    "    else:\n",
    "        return \"Noche\"\n",
    "\n",
    "# Programa principal\n",
    "try:\n",
    "    hora_usuario = int(input(\"Introduce la hora actual (0-23): \"))\n",
    "    resultado = determinar_periodo_horario(hora_usuario)\n",
    "    print(f\"➡️ Son las {hora_usuario}h, por lo tanto es {resultado}.\")\n",
    "except ValueError:\n",
    "    print(\"❌ Entrada inválida. Por favor ingresa un número entero entre 0 y 23.\")\n"
   ]
  },
  {
   "cell_type": "markdown",
   "id": "175b9e45",
   "metadata": {},
   "source": [
    "##### 39. Escribe un programa que determine qué calificación en texto tiene un alumno en base a su calificación numérica."
   ]
  },
  {
   "cell_type": "code",
   "execution_count": null,
   "id": "4e2981fa",
   "metadata": {},
   "outputs": [],
   "source": [
    "def calificacion_texto(nota: int) -> str:\n",
    "    \"\"\"\n",
    "    Devuelve la calificación en texto según la nota numérica.\n",
    "\n",
    "    Parámetros:\n",
    "    nota (int): Calificación numérica (0-100).\n",
    "\n",
    "    Retorna:\n",
    "    str: Texto que representa la calificación.\n",
    "    \"\"\"\n",
    "    if nota < 0 or nota > 100:\n",
    "        return \"Nota inválida. Debe estar entre 0 y 100.\"\n",
    "    if 0 <= nota <= 69:\n",
    "        return \"insuficiente\"\n",
    "    elif 70 <= nota <= 79:\n",
    "        return \"bien\"\n",
    "    elif 80 <= nota <= 89:\n",
    "        return \"muy bien\"\n",
    "    else:  # 90 - 100\n",
    "        return \"excelente\"\n",
    "\n",
    "# Programa principal\n",
    "try:\n",
    "    nota_usuario = int(input(\"Introduce la calificación del alumno (0-100): \"))\n",
    "    resultado = calificacion_texto(nota_usuario)\n",
    "    print(f\"La calificación es: {resultado}.\")\n",
    "except ValueError:\n",
    "    print(\"❌ Entrada inválida. Por favor ingresa un número entero entre 0 y 100.\")\n"
   ]
  },
  {
   "cell_type": "markdown",
   "id": "32924807",
   "metadata": {},
   "source": [
    "##### 40. Escribe una función que tome dos parámetros: figura (una cadena que puede ser \"rectangulo\", \"circulo\" o \"triangulo\" ) y datos (una tupla con los datos necesarios para calcular el área de la figura)."
   ]
  },
  {
   "cell_type": "code",
   "execution_count": 36,
   "id": "b28737da",
   "metadata": {},
   "outputs": [
    {
     "name": "stdout",
     "output_type": "stream",
     "text": [
      "Área rectángulo (base=5, altura=3): 15\n",
      "Área círculo (radio=4): 50.26548245743669\n",
      "Área triángulo (base=6, altura=2): 6.0\n"
     ]
    }
   ],
   "source": [
    "import math\n",
    "\n",
    "def calcular_area(figura: str, datos: tuple) -> float:\n",
    "    \"\"\"\n",
    "    Calcula el área de una figura geométrica dada y sus dimensiones.\n",
    "\n",
    "    Parámetros:\n",
    "    figura (str): Tipo de figura (\"rectangulo\", \"circulo\", \"triangulo\").\n",
    "    datos (tuple): Dimensiones necesarias para calcular el área.\n",
    "\n",
    "    Retorna:\n",
    "    float: Área de la figura.\n",
    "    \"\"\"\n",
    "    figura = figura.lower()\n",
    "\n",
    "    if figura == \"rectangulo\":\n",
    "        # datos = (base, altura)\n",
    "        if len(datos) != 2:\n",
    "            raise ValueError(\"Para rectángulo se requieren 2 datos: base y altura.\")\n",
    "        base, altura = datos\n",
    "        return base * altura\n",
    "\n",
    "    elif figura == \"circulo\":\n",
    "        # datos = (radio,)\n",
    "        if len(datos) != 1:\n",
    "            raise ValueError(\"Para círculo se requiere 1 dato: radio.\")\n",
    "        radio = datos[0]\n",
    "        return math.pi * radio ** 2\n",
    "\n",
    "    elif figura == \"triangulo\":\n",
    "        # datos = (base, altura)\n",
    "        if len(datos) != 2:\n",
    "            raise ValueError(\"Para triángulo se requieren 2 datos: base y altura.\")\n",
    "        base, altura = datos\n",
    "        return (base * altura) / 2\n",
    "\n",
    "    else:\n",
    "        raise ValueError(\"Figura no reconocida. Use 'rectangulo', 'circulo' o 'triangulo'.\")\n",
    "\n",
    "# Ejemplos de uso:\n",
    "print(\"Área rectángulo (base=5, altura=3):\", calcular_area(\"rectangulo\", (5, 3)))\n",
    "print(\"Área círculo (radio=4):\", calcular_area(\"circulo\", (4,)))\n",
    "print(\"Área triángulo (base=6, altura=2):\", calcular_area(\"triangulo\", (6, 2)))\n"
   ]
  },
  {
   "cell_type": "markdown",
   "id": "3d240e0e",
   "metadata": {},
   "source": [
    "##### 41. En este ejercicio, se te pedirá que escribas un programa en Python que utilice condicionales para determinar el monto final de una compra en una tienda en línea, después de aplicar un descuento."
   ]
  },
  {
   "cell_type": "code",
   "execution_count": null,
   "id": "566d7e6e",
   "metadata": {},
   "outputs": [],
   "source": [
    "def calcular_precio_final():\n",
    "    \"\"\"\n",
    "    Solicita el precio, si tiene cupón y el valor del cupón, y calcula el precio final.\n",
    "    \"\"\"\n",
    "    try:\n",
    "        precio_original = float(input(\"Introduce el precio original del artículo: \"))\n",
    "        if precio_original < 0:\n",
    "            print(\"❌ El precio no puede ser negativo.\")\n",
    "            return\n",
    "        \n",
    "        tiene_cupon = input(\"¿Tienes un cupón de descuento? (sí/no): \").strip().lower()\n",
    "        \n",
    "        if tiene_cupon == \"sí\":\n",
    "            valor_cupon = float(input(\"Introduce el valor del cupón de descuento (€): \"))\n",
    "            if valor_cupon > 0:\n",
    "                precio_final = precio_original - valor_cupon\n",
    "                if precio_final < 0:\n",
    "                    precio_final = 0\n",
    "                print(f\"El precio final con descuento es: {precio_final:.2f}€\")\n",
    "            else:\n",
    "                print(\"❌ El valor del cupón debe ser mayor que cero. No se aplicó descuento.\")\n",
    "                print(f\"El precio final es: {precio_original:.2f}€\")\n",
    "        elif tiene_cupon == \"no\":\n",
    "            print(f\"El precio final es: {precio_original:.2f}€\")\n",
    "        else:\n",
    "            print(\"❌ Respuesta no válida. Por favor, responde 'sí' o 'no'.\")\n",
    "    except ValueError:\n",
    "        print(\"❌ Entrada inválida. Por favor, ingresa números válidos para precio y descuento.\")\n",
    "\n",
    "# Ejecutar programa\n",
    "calcular_precio_final()\n"
   ]
  }
 ],
 "metadata": {
  "kernelspec": {
   "display_name": "Python 3",
   "language": "python",
   "name": "python3"
  },
  "language_info": {
   "codemirror_mode": {
    "name": "ipython",
    "version": 3
   },
   "file_extension": ".py",
   "mimetype": "text/x-python",
   "name": "python",
   "nbconvert_exporter": "python",
   "pygments_lexer": "ipython3",
   "version": "3.9.6"
  }
 },
 "nbformat": 4,
 "nbformat_minor": 5
}
